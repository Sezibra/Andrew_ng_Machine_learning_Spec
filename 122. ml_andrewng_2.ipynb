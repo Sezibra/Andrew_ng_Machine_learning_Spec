{
 "cells": [
  {
   "cell_type": "code",
   "execution_count": 1,
   "id": "b8615b0f-ba51-4f3c-870b-ca3a043ce778",
   "metadata": {},
   "outputs": [],
   "source": [
    "import numpy as np\n",
    "import time"
   ]
  },
  {
   "cell_type": "markdown",
   "id": "6d50b91c-2377-4fe1-9ee6-8dc4ec05e55f",
   "metadata": {},
   "source": [
    "## Vector Creation"
   ]
  },
  {
   "cell_type": "code",
   "execution_count": 10,
   "id": "57209cb1-40af-4a73-a15e-2c576cfe85d7",
   "metadata": {},
   "outputs": [
    {
     "name": "stdout",
     "output_type": "stream",
     "text": [
      "np.zeros(4) : a=[0. 0. 0. 0.], a shape = (4,), a data type = float64\n"
     ]
    }
   ],
   "source": [
    "a = np.zeros(4); print(f\"np.zeros(4) : a={a}, a shape = {a.shape}, a data type = {a.dtype}\")"
   ]
  },
  {
   "cell_type": "code",
   "execution_count": 16,
   "id": "23410ef9-96cb-433b-b5fb-ec8a8c9ec2e4",
   "metadata": {},
   "outputs": [
    {
     "name": "stdout",
     "output_type": "stream",
     "text": [
      "np.zeros(4,): a=[0. 0. 0. 0.], a shape = (4,), a data type = float64\n"
     ]
    }
   ],
   "source": [
    "a = np.zeros((4,)); print(f\"np.zeros(4,): a={a}, a shape = {a.shape}, a data type = {a.dtype}\")"
   ]
  },
  {
   "cell_type": "code",
   "execution_count": 18,
   "id": "9f92fc23-bdde-493d-98bf-951f14702114",
   "metadata": {},
   "outputs": [
    {
     "name": "stdout",
     "output_type": "stream",
     "text": [
      "np.random.random_sample(4): a = [0.89997075 0.85992366 0.68870376 0.65477763], a shape = (4,), a data type = float64\n"
     ]
    }
   ],
   "source": [
    "a = np.random.random_sample(4); print(f\"np.random.random_sample(4): a = {a}, a shape = {a.shape}, a data type = {a.dtype}\")"
   ]
  },
  {
   "cell_type": "code",
   "execution_count": 20,
   "id": "0cca8239-2556-4564-b249-5925ad03a6a3",
   "metadata": {},
   "outputs": [
    {
     "name": "stdout",
     "output_type": "stream",
     "text": [
      "np.arange(4. ): a=(4,), a data type = float64\n"
     ]
    }
   ],
   "source": [
    "a = np.arange(4. ); print(f\"np.arange(4. ): a={a.shape}, a data type = {a.dtype}\")"
   ]
  },
  {
   "cell_type": "code",
   "execution_count": 28,
   "id": "98be4433-fbcd-4f66-a152-774e289b0e2a",
   "metadata": {},
   "outputs": [
    {
     "name": "stdout",
     "output_type": "stream",
     "text": [
      "np.random.rand(4): a = [0.55167237 0.3873288  0.81278387 0.53474697], a shape = (4,), a data type = float64\n"
     ]
    }
   ],
   "source": [
    "a = np.random.rand(4); print(f\"np.random.rand(4): a = {a}, a shape = {a.shape}, a data type = {a.dtype}\")"
   ]
  },
  {
   "cell_type": "code",
   "execution_count": 30,
   "id": "d39a768d-0642-4c6e-8f8b-79f41dcda2d5",
   "metadata": {},
   "outputs": [
    {
     "name": "stdout",
     "output_type": "stream",
     "text": [
      "np.array([5,4,3,2]): a shape=(4,), a data type = int64\n"
     ]
    }
   ],
   "source": [
    "a = np.array([5,4,3,2]); print(f\"np.array([5,4,3,2]): a shape={a.shape}, a data type = {a.dtype}\")"
   ]
  },
  {
   "cell_type": "code",
   "execution_count": 32,
   "id": "5a419498-91f1-49a2-9ae8-86631e889748",
   "metadata": {},
   "outputs": [
    {
     "name": "stdout",
     "output_type": "stream",
     "text": [
      "np.array([5.,4,3,2]): a =[5.4 3.  2. ], a shape = (3,), a data type = float64\n"
     ]
    }
   ],
   "source": [
    "a = np.array([5.4,3,2]); print(f\"np.array([5.,4,3,2]): a ={a}, a shape = {a.shape}, a data type = {a.dtype}\") "
   ]
  },
  {
   "cell_type": "markdown",
   "id": "f18fb34a-35a2-4d7f-8091-35d53c0c59fa",
   "metadata": {},
   "source": [
    "## Operations on Vectors"
   ]
  },
  {
   "cell_type": "markdown",
   "id": "6f350d5f-e0cc-4625-add7-6a8988216e14",
   "metadata": {},
   "source": [
    "### Indexing"
   ]
  },
  {
   "cell_type": "code",
   "execution_count": 37,
   "id": "5ece1063-fd44-42ee-8df6-5cc955f5fd09",
   "metadata": {},
   "outputs": [
    {
     "name": "stdout",
     "output_type": "stream",
     "text": [
      "[0 1 2 3 4 5 6 7 8 9]\n"
     ]
    }
   ],
   "source": [
    "a= np.arange(10)\n",
    "print(a)"
   ]
  },
  {
   "cell_type": "code",
   "execution_count": 41,
   "id": "993fd5b7-6ea2-4d4e-9be0-957db2f3004c",
   "metadata": {},
   "outputs": [
    {
     "name": "stdout",
     "output_type": "stream",
     "text": [
      "a[2].shape: () a[2]  = 2, Accessing an element returns a scalar\n"
     ]
    }
   ],
   "source": [
    "print(f\"a[2].shape: {a[2].shape} a[2]  = {a[2]}, Accessing an element returns a scalar\")"
   ]
  },
  {
   "cell_type": "code",
   "execution_count": 43,
   "id": "bc58af4a-7e0d-4426-bc3b-f9bbb281afce",
   "metadata": {},
   "outputs": [
    {
     "name": "stdout",
     "output_type": "stream",
     "text": [
      "a[-1] = 9\n"
     ]
    }
   ],
   "source": [
    "print(f\"a[-1] = {a[-1]}\")"
   ]
  },
  {
   "cell_type": "code",
   "execution_count": 47,
   "id": "3547a02b-5723-491f-8500-af1677d20aec",
   "metadata": {},
   "outputs": [
    {
     "name": "stdout",
     "output_type": "stream",
     "text": [
      "The error message you'll see is:\n",
      "index 10 is out of bounds for axis 0 with size 10\n"
     ]
    }
   ],
   "source": [
    "try:\n",
    "    c=a[10]\n",
    "except Exception as e:\n",
    "    print(\"The error message you'll see is:\")\n",
    "    print(e)"
   ]
  },
  {
   "cell_type": "markdown",
   "id": "979763de-66c7-4eba-8c5d-701a5be559a1",
   "metadata": {},
   "source": [
    "### Slicing"
   ]
  },
  {
   "cell_type": "code",
   "execution_count": 60,
   "id": "771f516c-bd90-4881-ae90-3e702f953c59",
   "metadata": {},
   "outputs": [
    {
     "name": "stdout",
     "output_type": "stream",
     "text": [
      "a = [0 1 2 3 4 5 6 7 8 9]\n"
     ]
    }
   ],
   "source": [
    "a= np.arange(10)\n",
    "print(f\"a = {a}\")"
   ]
  },
  {
   "cell_type": "code",
   "execution_count": 62,
   "id": "ef97eb3a-baec-4d7c-80fd-f198f71622bb",
   "metadata": {},
   "outputs": [
    {
     "name": "stdout",
     "output_type": "stream",
     "text": [
      "a[2:7:1] =  [2 3 4 5 6]\n"
     ]
    }
   ],
   "source": [
    "c= a[2:7:1]; print(\"a[2:7:1] = \", c)"
   ]
  },
  {
   "cell_type": "code",
   "execution_count": 64,
   "id": "b6cb48fa-ca0f-402f-9f6f-0284797c4e71",
   "metadata": {},
   "outputs": [
    {
     "name": "stdout",
     "output_type": "stream",
     "text": [
      "a[[2:7:2] =  [2 4 6]\n"
     ]
    }
   ],
   "source": [
    "c= a[2:7:2]; print(\"a[[2:7:2] = \", c)"
   ]
  },
  {
   "cell_type": "code",
   "execution_count": 70,
   "id": "31a5c02b-c650-4c3e-92c5-ea321e8b9814",
   "metadata": {},
   "outputs": [
    {
     "name": "stdout",
     "output_type": "stream",
     "text": [
      "a[3:] =  [3 4 5 6 7 8 9]\n",
      "a[:3] =  [0 1 2]\n"
     ]
    }
   ],
   "source": [
    "c=a[3:]; print(\"a[3:] = \", c)\n",
    "c=a[:3]; print(\"a[:3] = \", c)"
   ]
  },
  {
   "cell_type": "code",
   "execution_count": 72,
   "id": "42f50d03-13ed-4ad9-8de9-e5bd57f9381a",
   "metadata": {},
   "outputs": [
    {
     "name": "stdout",
     "output_type": "stream",
     "text": [
      "a[:] =  [0 1 2 3 4 5 6 7 8 9]\n"
     ]
    }
   ],
   "source": [
    "c= a[:]; print(\"a[:] = \", c)"
   ]
  },
  {
   "cell_type": "markdown",
   "id": "758c1a8e-0e62-47f7-a805-d19f988680cb",
   "metadata": {},
   "source": [
    "### Single Vector Operations"
   ]
  },
  {
   "cell_type": "code",
   "execution_count": 75,
   "id": "5194c6f0-9833-4e84-bae4-6b5c88ece494",
   "metadata": {},
   "outputs": [
    {
     "name": "stdout",
     "output_type": "stream",
     "text": [
      "a: [1 2 3 4]\n"
     ]
    }
   ],
   "source": [
    "a = np.array([1,2,3,4])\n",
    "print(f\"a: {a}\")"
   ]
  },
  {
   "cell_type": "code",
   "execution_count": 77,
   "id": "dc16d58e-2cb5-4244-8d87-12fc574a371d",
   "metadata": {},
   "outputs": [
    {
     "name": "stdout",
     "output_type": "stream",
     "text": [
      "-a: [-1 -2 -3 -4]\n"
     ]
    }
   ],
   "source": [
    "b = -a\n",
    "print(f\"-a: {b}\")"
   ]
  },
  {
   "cell_type": "code",
   "execution_count": 79,
   "id": "ca89e2b7-3913-4e9e-9b4c-4b67704db430",
   "metadata": {},
   "outputs": [
    {
     "name": "stdout",
     "output_type": "stream",
     "text": [
      "b = np.sum(a): 10\n"
     ]
    }
   ],
   "source": [
    "b = np.sum(a)\n",
    "print(f\"b = np.sum(a): {b}\")"
   ]
  },
  {
   "cell_type": "code",
   "execution_count": 81,
   "id": "26515650-9257-4970-b753-c05fa26d0d55",
   "metadata": {},
   "outputs": [
    {
     "name": "stdout",
     "output_type": "stream",
     "text": [
      "b = np.mean(a): 2.5\n"
     ]
    }
   ],
   "source": [
    "b = np.mean(a)\n",
    "print(f\"b = np.mean(a): {b}\")"
   ]
  },
  {
   "cell_type": "code",
   "execution_count": 83,
   "id": "a84d552d-f920-4cf4-9833-3edbd6a2ae5a",
   "metadata": {},
   "outputs": [
    {
     "name": "stdout",
     "output_type": "stream",
     "text": [
      "b = a**2: [ 1  4  9 16]\n"
     ]
    }
   ],
   "source": [
    "b = a ** 2\n",
    "print(f\"b = a**2: {b}\")"
   ]
  },
  {
   "cell_type": "markdown",
   "id": "41027bc6-ae02-42eb-bb73-4d6dbc9c93d9",
   "metadata": {},
   "source": [
    "### Vector Vector Element-wise Operations"
   ]
  },
  {
   "cell_type": "markdown",
   "id": "f23ee1ab-96f3-4b98-9e0e-62047fe35075",
   "metadata": {},
   "source": [
    "$$ c_i = a_i + b_i $$"
   ]
  },
  {
   "cell_type": "code",
   "execution_count": 91,
   "id": "69924c22-d60f-4ab2-982a-419696334375",
   "metadata": {},
   "outputs": [
    {
     "name": "stdout",
     "output_type": "stream",
     "text": [
      "Binary operators work element wise: [0 0 6 8]\n"
     ]
    }
   ],
   "source": [
    "a = np.array([1,2,3,4])\n",
    "b = np.array([-1,-2,3,4])\n",
    "print(f\"Binary operators work element wise: {a+b}\")"
   ]
  },
  {
   "cell_type": "code",
   "execution_count": 93,
   "id": "8b68d43f-7e84-4bda-9169-3e8722e0404d",
   "metadata": {},
   "outputs": [
    {
     "name": "stdout",
     "output_type": "stream",
     "text": [
      "The error message you'll see is:\n",
      "operands could not be broadcast together with shapes (4,) (2,) \n"
     ]
    }
   ],
   "source": [
    "c = np.array([1,2,])\n",
    "try:\n",
    "    d = a+c\n",
    "except Exception as e:\n",
    "    print(\"The error message you'll see is:\")\n",
    "    print (e)"
   ]
  },
  {
   "cell_type": "markdown",
   "id": "8c0a994a-bcf9-4861-835b-a143fb721760",
   "metadata": {},
   "source": [
    "### Scalar Vector Operations"
   ]
  },
  {
   "cell_type": "code",
   "execution_count": 96,
   "id": "e1a88fba-685d-4089-8117-8274df3ad686",
   "metadata": {},
   "outputs": [
    {
     "name": "stdout",
     "output_type": "stream",
     "text": [
      "b = 5 * a: [ 5 10 15 20]\n"
     ]
    }
   ],
   "source": [
    "a = np.array([1,2,3,4])\n",
    "\n",
    "b = 5 * a\n",
    "print(f\"b = 5 * a: {b}\")"
   ]
  },
  {
   "cell_type": "markdown",
   "id": "f95140de-acf8-40cc-9f9a-9319dd2148a8",
   "metadata": {},
   "source": [
    "### Vector Vector dot Product"
   ]
  },
  {
   "cell_type": "markdown",
   "id": "4f6cb9c7-ff1e-46d5-a477-cfd1b5813c8e",
   "metadata": {},
   "source": [
    "$$ x = \\sum_{i=0}^{n-1} a_i b_i $$"
   ]
  },
  {
   "cell_type": "code",
   "execution_count": 113,
   "id": "b107d417-fb38-421e-8a80-1d9c6db582bf",
   "metadata": {},
   "outputs": [],
   "source": [
    "def my_dot (a,b):\n",
    "    x = 0\n",
    "    for i in range(a.shape[0]):\n",
    "        x = x + a[i] * b [i]\n",
    "    return x"
   ]
  },
  {
   "cell_type": "code",
   "execution_count": 111,
   "id": "5c60e19e-614a-4062-aef9-ed93fe3826e7",
   "metadata": {},
   "outputs": [
    {
     "name": "stdout",
     "output_type": "stream",
     "text": [
      "my_dot(a,b) = 24\n"
     ]
    }
   ],
   "source": [
    "### test 1-D\n",
    "a = np.array([1,2,3,4])\n",
    "b = np.array([-1, 4,3,2])\n",
    "print(f\"my_dot(a,b) = {my_dot(a,b)}\")"
   ]
  },
  {
   "cell_type": "code",
   "execution_count": 115,
   "id": "9b3138fb-5a7d-4ec0-8da8-1bae9939d3de",
   "metadata": {},
   "outputs": [
    {
     "name": "stdout",
     "output_type": "stream",
     "text": [
      "NumPy 1-D np.dot(a,b) = 24, np.dot(a,b).shape = ()\n",
      "NumPy 1-D np.dot(b,a) = 24, np.dot(a,b).shape = ()\n"
     ]
    }
   ],
   "source": [
    "# test 1-D\n",
    "a = np.array([1,2,3,4])\n",
    "b = np.array([-1,4,3,2])\n",
    "c = np.dot(a,b)\n",
    "print (f\"NumPy 1-D np.dot(a,b) = {c}, np.dot(a,b).shape = {c.shape}\")\n",
    "c = np.dot(b,a)\n",
    "print(f\"NumPy 1-D np.dot(b,a) = {c}, np.dot(a,b).shape = {c.shape}\")"
   ]
  },
  {
   "cell_type": "markdown",
   "id": "3ee1f284-9aef-4483-b627-89e6962c91b0",
   "metadata": {},
   "source": [
    "### Vector vs. for Loop"
   ]
  },
  {
   "cell_type": "code",
   "execution_count": 121,
   "id": "e44bdb8f-6ea7-46e5-8b4d-8f0d0fd1e404",
   "metadata": {},
   "outputs": [
    {
     "name": "stdout",
     "output_type": "stream",
     "text": [
      "np.dot(a, b) =  2501072.5817\n",
      "Vectorized version duration: 3.9661 ms \n",
      "my_dot(a, b) =  2501072.5817\n",
      "loop version duration: 1037.2400 ms \n"
     ]
    }
   ],
   "source": [
    "np.random.seed(1)\n",
    "a = np.random.rand(10000000)  # very large arrays\n",
    "b = np.random.rand(10000000)\n",
    "\n",
    "tic = time.time()  # capture start time\n",
    "c = np.dot(a, b)\n",
    "toc = time.time()  # capture end time\n",
    "\n",
    "print(f\"np.dot(a, b) =  {c:.4f}\")\n",
    "print(f\"Vectorized version duration: {1000*(toc-tic):.4f} ms \")\n",
    "\n",
    "tic = time.time()  # capture start time\n",
    "c = my_dot(a,b)\n",
    "toc = time.time()  # capture end time\n",
    "\n",
    "print(f\"my_dot(a, b) =  {c:.4f}\")\n",
    "print(f\"loop version duration: {1000*(toc-tic):.4f} ms \")\n",
    "\n",
    "del(a);del(b)  #remove these big arrays from memory"
   ]
  },
  {
   "cell_type": "markdown",
   "id": "a029af5e-fa8e-4e27-9bf6-e7fd55335e9d",
   "metadata": {},
   "source": [
    "### Matrix Creation"
   ]
  },
  {
   "cell_type": "code",
   "execution_count": 124,
   "id": "327b3998-8142-4312-b7e0-ad8afb26bd2b",
   "metadata": {},
   "outputs": [
    {
     "name": "stdout",
     "output_type": "stream",
     "text": [
      "a shape = (1, 5), a = [[0. 0. 0. 0. 0.]]\n",
      "a shape = (2, 1), a = [[0.]\n",
      " [0.]]\n",
      "a shape = (1, 1), a = [[0.44236513]]\n"
     ]
    }
   ],
   "source": [
    "a = np.zeros((1,5))\n",
    "print(f\"a shape = {a.shape}, a = {a}\")\n",
    "\n",
    "a = np.zeros((2,1))\n",
    "print(f\"a shape = {a.shape}, a = {a}\")\n",
    "\n",
    "a = np.random.random_sample ((1,1))\n",
    "print(f\"a shape = {a.shape}, a = {a}\")"
   ]
  },
  {
   "cell_type": "code",
   "execution_count": 126,
   "id": "12b7b2b5-05e4-45db-b8b9-5c98646fe87c",
   "metadata": {},
   "outputs": [
    {
     "name": "stdout",
     "output_type": "stream",
     "text": [
      " a shape = (3, 1), np.array: a = [[5]\n",
      " [4]\n",
      " [3]]\n",
      " a shape = (3, 1), np.array: a = [[5]\n",
      " [4]\n",
      " [3]]\n"
     ]
    }
   ],
   "source": [
    "a = np.array([[5], [4], [3]]);   print(f\" a shape = {a.shape}, np.array: a = {a}\")\n",
    "a = np.array([[5],   # One can also\n",
    "              [4],   # separate values\n",
    "              [3]]); #into separate rows\n",
    "print(f\" a shape = {a.shape}, np.array: a = {a}\")"
   ]
  },
  {
   "cell_type": "markdown",
   "id": "4a480445-ddab-437e-a2c1-35206bddea29",
   "metadata": {},
   "source": [
    "### Operation on Matrices"
   ]
  },
  {
   "cell_type": "markdown",
   "id": "10bf362f-fd8b-4858-9ec8-4ec59a8168e0",
   "metadata": {},
   "source": [
    "#### Indexing"
   ]
  },
  {
   "cell_type": "code",
   "execution_count": 130,
   "id": "9410fe21-a21b-45da-8620-8de49d05dc25",
   "metadata": {},
   "outputs": [
    {
     "name": "stdout",
     "output_type": "stream",
     "text": [
      "a.shape: (3, 2), \n",
      "a= [[0 1]\n",
      " [2 3]\n",
      " [4 5]]\n",
      "\n",
      "a[2,0].shape:   (), a[2,0] = 4,     type(a[2,0]) = <class 'numpy.int64'> Accessing an element returns a scalar\n",
      "\n",
      "a[2].shape:   (2,), a[2]   = [4 5], type(a[2])   = <class 'numpy.ndarray'>\n"
     ]
    }
   ],
   "source": [
    "#vector indexing operations on matrices\n",
    "a = np.arange(6).reshape(-1, 2)   #reshape is a convenient way to create matrices\n",
    "print(f\"a.shape: {a.shape}, \\na= {a}\")\n",
    "\n",
    "#access an element\n",
    "print(f\"\\na[2,0].shape:   {a[2, 0].shape}, a[2,0] = {a[2, 0]},     type(a[2,0]) = {type(a[2, 0])} Accessing an element returns a scalar\\n\")\n",
    "\n",
    "#access a row\n",
    "print(f\"a[2].shape:   {a[2].shape}, a[2]   = {a[2]}, type(a[2])   = {type(a[2])}\")"
   ]
  },
  {
   "cell_type": "code",
   "execution_count": 132,
   "id": "c89081d7-1514-41a2-8d6f-aea6e92eda00",
   "metadata": {},
   "outputs": [
    {
     "name": "stdout",
     "output_type": "stream",
     "text": [
      "a = \n",
      "[[ 0  1  2  3  4  5  6  7  8  9]\n",
      " [10 11 12 13 14 15 16 17 18 19]]\n",
      "a[0, 2:7:1] =  [2 3 4 5 6] ,  a[0, 2:7:1].shape = (5,) a 1-D array\n",
      "a[:, 2:7:1] = \n",
      " [[ 2  3  4  5  6]\n",
      " [12 13 14 15 16]] ,  a[:, 2:7:1].shape = (2, 5) a 2-D array\n",
      "a[:,:] = \n",
      " [[ 0  1  2  3  4  5  6  7  8  9]\n",
      " [10 11 12 13 14 15 16 17 18 19]] ,  a[:,:].shape = (2, 10)\n",
      "a[1,:] =  [10 11 12 13 14 15 16 17 18 19] ,  a[1,:].shape = (10,) a 1-D array\n",
      "a[1]   =  [10 11 12 13 14 15 16 17 18 19] ,  a[1].shape   = (10,) a 1-D array\n"
     ]
    }
   ],
   "source": [
    "#vector 2-D slicing operations\n",
    "a = np.arange(20).reshape(-1, 10)\n",
    "print(f\"a = \\n{a}\")\n",
    "\n",
    "#access 5 consecutive elements (start:stop:step)\n",
    "print(\"a[0, 2:7:1] = \", a[0, 2:7:1], \",  a[0, 2:7:1].shape =\", a[0, 2:7:1].shape, \"a 1-D array\")\n",
    "\n",
    "#access 5 consecutive elements (start:stop:step) in two rows\n",
    "print(\"a[:, 2:7:1] = \\n\", a[:, 2:7:1], \",  a[:, 2:7:1].shape =\", a[:, 2:7:1].shape, \"a 2-D array\")\n",
    "\n",
    "# access all elements\n",
    "print(\"a[:,:] = \\n\", a[:,:], \",  a[:,:].shape =\", a[:,:].shape)\n",
    "\n",
    "# access all elements in one row (very common usage)\n",
    "print(\"a[1,:] = \", a[1,:], \",  a[1,:].shape =\", a[1,:].shape, \"a 1-D array\")\n",
    "# same as\n",
    "print(\"a[1]   = \", a[1],   \",  a[1].shape   =\", a[1].shape, \"a 1-D array\")"
   ]
  },
  {
   "cell_type": "code",
   "execution_count": null,
   "id": "5802b1f0-43d9-45b7-806e-373ed61820ea",
   "metadata": {},
   "outputs": [],
   "source": []
  }
 ],
 "metadata": {
  "kernelspec": {
   "display_name": "Python 3 (ipykernel)",
   "language": "python",
   "name": "python3"
  },
  "language_info": {
   "codemirror_mode": {
    "name": "ipython",
    "version": 3
   },
   "file_extension": ".py",
   "mimetype": "text/x-python",
   "name": "python",
   "nbconvert_exporter": "python",
   "pygments_lexer": "ipython3",
   "version": "3.11.7"
  }
 },
 "nbformat": 4,
 "nbformat_minor": 5
}
