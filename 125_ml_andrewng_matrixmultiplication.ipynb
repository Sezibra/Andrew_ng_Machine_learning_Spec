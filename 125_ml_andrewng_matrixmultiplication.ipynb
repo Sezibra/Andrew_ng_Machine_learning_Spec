{
 "cells": [
  {
   "cell_type": "markdown",
   "id": "a2b51049-878c-4149-a620-6bf0f6908ce0",
   "metadata": {},
   "source": [
    "## MATRIX MULTIPLICATION"
   ]
  },
  {
   "cell_type": "code",
   "execution_count": 1,
   "id": "7d4f4f75-f170-4fde-9003-d34dfb25bea8",
   "metadata": {},
   "outputs": [],
   "source": [
    "import numpy as np"
   ]
  },
  {
   "cell_type": "code",
   "execution_count": 3,
   "id": "94e7f4cd-2802-404b-a8ad-b620328a6d3d",
   "metadata": {},
   "outputs": [],
   "source": [
    "A = np.array([[1, -1, 0.1],\n",
    "              [2,-2,0.2]])"
   ]
  },
  {
   "cell_type": "code",
   "execution_count": 9,
   "id": "e13d378e-7597-4ab4-b846-dd8bd37fadd6",
   "metadata": {},
   "outputs": [],
   "source": [
    "AT = A.T # Transpose"
   ]
  },
  {
   "cell_type": "code",
   "execution_count": 11,
   "id": "b94f39da-d8bb-4cdf-ba1b-745d2b10f56a",
   "metadata": {},
   "outputs": [
    {
     "name": "stdout",
     "output_type": "stream",
     "text": [
      "[[ 1.   2. ]\n",
      " [-1.  -2. ]\n",
      " [ 0.1  0.2]]\n"
     ]
    }
   ],
   "source": [
    "print(AT)"
   ]
  },
  {
   "cell_type": "code",
   "execution_count": 15,
   "id": "3380ac8c-5721-4cd2-97a4-849f58a69c9b",
   "metadata": {},
   "outputs": [],
   "source": [
    "W = np.array([[3,5,7,9],\n",
    "              [4,6,8,0]])"
   ]
  },
  {
   "cell_type": "code",
   "execution_count": 17,
   "id": "8ece23a6-6958-4e71-96b7-3313fd62ffd1",
   "metadata": {},
   "outputs": [
    {
     "name": "stdout",
     "output_type": "stream",
     "text": [
      "[[3 5 7 9]\n",
      " [4 6 8 0]]\n"
     ]
    }
   ],
   "source": [
    "print(W)"
   ]
  },
  {
   "cell_type": "code",
   "execution_count": 19,
   "id": "b6ae13d1-66f1-4caf-814f-60c033e6b559",
   "metadata": {},
   "outputs": [],
   "source": [
    "Z = np.matmul(AT, W)"
   ]
  },
  {
   "cell_type": "code",
   "execution_count": 21,
   "id": "5e315ed1-8575-4c11-8f1a-6d1a21aa0e54",
   "metadata": {},
   "outputs": [
    {
     "name": "stdout",
     "output_type": "stream",
     "text": [
      "[[ 11.   17.   23.    9. ]\n",
      " [-11.  -17.  -23.   -9. ]\n",
      " [  1.1   1.7   2.3   0.9]]\n"
     ]
    }
   ],
   "source": [
    "print(Z)"
   ]
  },
  {
   "cell_type": "code",
   "execution_count": null,
   "id": "d34dd76f-6732-4782-841b-2b4a75b8e971",
   "metadata": {},
   "outputs": [],
   "source": []
  }
 ],
 "metadata": {
  "kernelspec": {
   "display_name": "Python 3 (ipykernel)",
   "language": "python",
   "name": "python3"
  },
  "language_info": {
   "codemirror_mode": {
    "name": "ipython",
    "version": 3
   },
   "file_extension": ".py",
   "mimetype": "text/x-python",
   "name": "python",
   "nbconvert_exporter": "python",
   "pygments_lexer": "ipython3",
   "version": "3.11.7"
  }
 },
 "nbformat": 4,
 "nbformat_minor": 5
}
