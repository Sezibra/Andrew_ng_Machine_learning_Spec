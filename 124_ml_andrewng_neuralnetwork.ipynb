{
 "cells": [
  {
   "cell_type": "markdown",
   "id": "020b9ebe-f676-460d-ac9d-9768921d8047",
   "metadata": {},
   "source": [
    "# Digit Classification Model"
   ]
  },
  {
   "cell_type": "markdown",
   "id": "06dcfef1-803e-4af7-b3f5-94d30c3ad3fe",
   "metadata": {},
   "source": [
    "layer_1 = Dense(units = 25, activation = \"sigmoid\")\n",
    "\n",
    "layer_2 = Dense(units = 15, activation = \"sigmoid\")\n",
    "\n",
    "layer_3 = Dense(units = 1, activation = \"sigmoid\")\n",
    "\n",
    "model = Sequential([layer_1, layer_2, layer_3])\n",
    "\n",
    "model.compile (...)\n",
    "\n",
    "x = np.array([0..., 245, ..., 17],\n",
    "             [0..., 200, ..., 184])\n",
    "\n",
    "y = np.array([1,0])\n",
    "\n",
    "model.fit(x,y)\n",
    "\n",
    "model.predict(x,y)"
   ]
  }
 ],
 "metadata": {
  "kernelspec": {
   "display_name": "Python 3 (ipykernel)",
   "language": "python",
   "name": "python3"
  },
  "language_info": {
   "codemirror_mode": {
    "name": "ipython",
    "version": 3
   },
   "file_extension": ".py",
   "mimetype": "text/x-python",
   "name": "python",
   "nbconvert_exporter": "python",
   "pygments_lexer": "ipython3",
   "version": "3.11.7"
  }
 },
 "nbformat": 4,
 "nbformat_minor": 5
}
